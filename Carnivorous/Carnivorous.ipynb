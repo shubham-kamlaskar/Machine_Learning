{
 "cells": [
  {
   "cell_type": "code",
   "execution_count": 1,
   "id": "54868fdb",
   "metadata": {},
   "outputs": [],
   "source": [
    "import numpy as np\n",
    "import pandas as pd\n",
    "import matplotlib.pyplot as plt\n",
    "import seaborn as sns\n",
    "sns.set()\n",
    "import os\n",
    "import re"
   ]
  },
  {
   "cell_type": "code",
   "execution_count": 2,
   "id": "c42142a0",
   "metadata": {},
   "outputs": [],
   "source": [
    "carni_path = open(r\"C:\\Users\\shubham\\Desktop\\Python\\Kaggle\\Carnivorous\\carnivorous_diet.csv\")"
   ]
  },
  {
   "cell_type": "code",
   "execution_count": 3,
   "id": "209b8dc0",
   "metadata": {},
   "outputs": [],
   "source": [
    "carni = pd.read_csv(r'carnivorous_diet.csv',encoding='cp1252',low_memory=False)"
   ]
  },
  {
   "cell_type": "code",
   "execution_count": 4,
   "id": "8b2c05c2",
   "metadata": {},
   "outputs": [
    {
     "data": {
      "text/plain": [
       "(29121, 53)"
      ]
     },
     "execution_count": 4,
     "metadata": {},
     "output_type": "execute_result"
    }
   ],
   "source": [
    "carni.shape"
   ]
  },
  {
   "cell_type": "code",
   "execution_count": 5,
   "id": "e015188e",
   "metadata": {},
   "outputs": [
    {
     "data": {
      "text/html": [
       "<div>\n",
       "<style scoped>\n",
       "    .dataframe tbody tr th:only-of-type {\n",
       "        vertical-align: middle;\n",
       "    }\n",
       "\n",
       "    .dataframe tbody tr th {\n",
       "        vertical-align: top;\n",
       "    }\n",
       "\n",
       "    .dataframe thead th {\n",
       "        text-align: right;\n",
       "    }\n",
       "</style>\n",
       "<table border=\"1\" class=\"dataframe\">\n",
       "  <thead>\n",
       "    <tr style=\"text-align: right;\">\n",
       "      <th></th>\n",
       "      <th>recordID</th>\n",
       "      <th>domesticOrAgricultural</th>\n",
       "      <th>percentage</th>\n",
       "      <th>sampleSizeScatStomachTissue</th>\n",
       "      <th>sampleSizeKillsPreyItems</th>\n",
       "      <th>startYear</th>\n",
       "      <th>endYear</th>\n",
       "      <th>startDayOfYear</th>\n",
       "      <th>endDayOfYear</th>\n",
       "      <th>minimumElevationInMeters</th>\n",
       "      <th>maximumElevationInMeters</th>\n",
       "      <th>decimalLatitude</th>\n",
       "      <th>decimalLongitude</th>\n",
       "      <th>sourceYear</th>\n",
       "    </tr>\n",
       "  </thead>\n",
       "  <tbody>\n",
       "    <tr>\n",
       "      <th>count</th>\n",
       "      <td>29121.000000</td>\n",
       "      <td>28883.000000</td>\n",
       "      <td>29121.000000</td>\n",
       "      <td>26311.000000</td>\n",
       "      <td>10298.000000</td>\n",
       "      <td>27787.000000</td>\n",
       "      <td>27787.000000</td>\n",
       "      <td>2892.000000</td>\n",
       "      <td>2890.000000</td>\n",
       "      <td>13600.000000</td>\n",
       "      <td>13600.000000</td>\n",
       "      <td>28899.000000</td>\n",
       "      <td>28607.000000</td>\n",
       "      <td>29121.000000</td>\n",
       "    </tr>\n",
       "    <tr>\n",
       "      <th>mean</th>\n",
       "      <td>14561.000000</td>\n",
       "      <td>0.076896</td>\n",
       "      <td>13.101016</td>\n",
       "      <td>213.635818</td>\n",
       "      <td>680.107982</td>\n",
       "      <td>1998.879224</td>\n",
       "      <td>2002.086551</td>\n",
       "      <td>10.361687</td>\n",
       "      <td>21.968166</td>\n",
       "      <td>711.648088</td>\n",
       "      <td>1500.114338</td>\n",
       "      <td>23.047816</td>\n",
       "      <td>6.017900</td>\n",
       "      <td>2007.280004</td>\n",
       "    </tr>\n",
       "    <tr>\n",
       "      <th>std</th>\n",
       "      <td>8406.652931</td>\n",
       "      <td>0.266432</td>\n",
       "      <td>18.633975</td>\n",
       "      <td>428.582357</td>\n",
       "      <td>2190.269530</td>\n",
       "      <td>10.964846</td>\n",
       "      <td>9.925597</td>\n",
       "      <td>8.137432</td>\n",
       "      <td>8.119245</td>\n",
       "      <td>824.721639</td>\n",
       "      <td>1316.101539</td>\n",
       "      <td>33.511533</td>\n",
       "      <td>70.770428</td>\n",
       "      <td>9.252173</td>\n",
       "    </tr>\n",
       "    <tr>\n",
       "      <th>min</th>\n",
       "      <td>1.000000</td>\n",
       "      <td>0.000000</td>\n",
       "      <td>0.010000</td>\n",
       "      <td>2.000000</td>\n",
       "      <td>3.000000</td>\n",
       "      <td>1933.000000</td>\n",
       "      <td>1946.000000</td>\n",
       "      <td>1.000000</td>\n",
       "      <td>2.000000</td>\n",
       "      <td>0.000000</td>\n",
       "      <td>0.000000</td>\n",
       "      <td>-55.000000</td>\n",
       "      <td>-169.378900</td>\n",
       "      <td>1952.000000</td>\n",
       "    </tr>\n",
       "    <tr>\n",
       "      <th>25%</th>\n",
       "      <td>7281.000000</td>\n",
       "      <td>0.000000</td>\n",
       "      <td>1.700000</td>\n",
       "      <td>49.000000</td>\n",
       "      <td>93.000000</td>\n",
       "      <td>1994.000000</td>\n",
       "      <td>1996.000000</td>\n",
       "      <td>1.000000</td>\n",
       "      <td>15.000000</td>\n",
       "      <td>100.000000</td>\n",
       "      <td>550.000000</td>\n",
       "      <td>-8.697531</td>\n",
       "      <td>-49.104167</td>\n",
       "      <td>2003.000000</td>\n",
       "    </tr>\n",
       "    <tr>\n",
       "      <th>50%</th>\n",
       "      <td>14561.000000</td>\n",
       "      <td>0.000000</td>\n",
       "      <td>5.300000</td>\n",
       "      <td>101.000000</td>\n",
       "      <td>200.000000</td>\n",
       "      <td>2000.000000</td>\n",
       "      <td>2004.000000</td>\n",
       "      <td>15.000000</td>\n",
       "      <td>20.000000</td>\n",
       "      <td>500.000000</td>\n",
       "      <td>1250.000000</td>\n",
       "      <td>37.150000</td>\n",
       "      <td>15.500000</td>\n",
       "      <td>2010.000000</td>\n",
       "    </tr>\n",
       "    <tr>\n",
       "      <th>75%</th>\n",
       "      <td>21841.000000</td>\n",
       "      <td>0.000000</td>\n",
       "      <td>16.000000</td>\n",
       "      <td>230.000000</td>\n",
       "      <td>465.000000</td>\n",
       "      <td>2007.000000</td>\n",
       "      <td>2009.000000</td>\n",
       "      <td>16.000000</td>\n",
       "      <td>30.000000</td>\n",
       "      <td>900.000000</td>\n",
       "      <td>1980.000000</td>\n",
       "      <td>46.992800</td>\n",
       "      <td>30.100000</td>\n",
       "      <td>2014.000000</td>\n",
       "    </tr>\n",
       "    <tr>\n",
       "      <th>max</th>\n",
       "      <td>29121.000000</td>\n",
       "      <td>1.000000</td>\n",
       "      <td>100.000000</td>\n",
       "      <td>11478.000000</td>\n",
       "      <td>23824.000000</td>\n",
       "      <td>2017.000000</td>\n",
       "      <td>2017.000000</td>\n",
       "      <td>30.000000</td>\n",
       "      <td>31.000000</td>\n",
       "      <td>4543.000000</td>\n",
       "      <td>8156.000000</td>\n",
       "      <td>81.594500</td>\n",
       "      <td>174.067133</td>\n",
       "      <td>2019.000000</td>\n",
       "    </tr>\n",
       "  </tbody>\n",
       "</table>\n",
       "</div>"
      ],
      "text/plain": [
       "           recordID  domesticOrAgricultural    percentage  \\\n",
       "count  29121.000000            28883.000000  29121.000000   \n",
       "mean   14561.000000                0.076896     13.101016   \n",
       "std     8406.652931                0.266432     18.633975   \n",
       "min        1.000000                0.000000      0.010000   \n",
       "25%     7281.000000                0.000000      1.700000   \n",
       "50%    14561.000000                0.000000      5.300000   \n",
       "75%    21841.000000                0.000000     16.000000   \n",
       "max    29121.000000                1.000000    100.000000   \n",
       "\n",
       "       sampleSizeScatStomachTissue  sampleSizeKillsPreyItems     startYear  \\\n",
       "count                 26311.000000              10298.000000  27787.000000   \n",
       "mean                    213.635818                680.107982   1998.879224   \n",
       "std                     428.582357               2190.269530     10.964846   \n",
       "min                       2.000000                  3.000000   1933.000000   \n",
       "25%                      49.000000                 93.000000   1994.000000   \n",
       "50%                     101.000000                200.000000   2000.000000   \n",
       "75%                     230.000000                465.000000   2007.000000   \n",
       "max                   11478.000000              23824.000000   2017.000000   \n",
       "\n",
       "            endYear  startDayOfYear  endDayOfYear  minimumElevationInMeters  \\\n",
       "count  27787.000000     2892.000000   2890.000000              13600.000000   \n",
       "mean    2002.086551       10.361687     21.968166                711.648088   \n",
       "std        9.925597        8.137432      8.119245                824.721639   \n",
       "min     1946.000000        1.000000      2.000000                  0.000000   \n",
       "25%     1996.000000        1.000000     15.000000                100.000000   \n",
       "50%     2004.000000       15.000000     20.000000                500.000000   \n",
       "75%     2009.000000       16.000000     30.000000                900.000000   \n",
       "max     2017.000000       30.000000     31.000000               4543.000000   \n",
       "\n",
       "       maximumElevationInMeters  decimalLatitude  decimalLongitude  \\\n",
       "count              13600.000000     28899.000000      28607.000000   \n",
       "mean                1500.114338        23.047816          6.017900   \n",
       "std                 1316.101539        33.511533         70.770428   \n",
       "min                    0.000000       -55.000000       -169.378900   \n",
       "25%                  550.000000        -8.697531        -49.104167   \n",
       "50%                 1250.000000        37.150000         15.500000   \n",
       "75%                 1980.000000        46.992800         30.100000   \n",
       "max                 8156.000000        81.594500        174.067133   \n",
       "\n",
       "         sourceYear  \n",
       "count  29121.000000  \n",
       "mean    2007.280004  \n",
       "std        9.252173  \n",
       "min     1952.000000  \n",
       "25%     2003.000000  \n",
       "50%     2010.000000  \n",
       "75%     2014.000000  \n",
       "max     2019.000000  "
      ]
     },
     "execution_count": 5,
     "metadata": {},
     "output_type": "execute_result"
    }
   ],
   "source": [
    "carni.describe()"
   ]
  },
  {
   "cell_type": "code",
   "execution_count": 6,
   "id": "bffa8bd0",
   "metadata": {},
   "outputs": [],
   "source": [
    "# carni.info()"
   ]
  },
  {
   "cell_type": "code",
   "execution_count": 7,
   "id": "949e3d12",
   "metadata": {},
   "outputs": [],
   "source": [
    "# carni.isnull().sum()"
   ]
  },
  {
   "cell_type": "code",
   "execution_count": 8,
   "id": "1c5d46ae",
   "metadata": {},
   "outputs": [],
   "source": [
    "# carni"
   ]
  },
  {
   "cell_type": "code",
   "execution_count": 9,
   "id": "2ba5fc54",
   "metadata": {},
   "outputs": [
    {
     "data": {
      "text/plain": [
       "(29121, 53)"
      ]
     },
     "execution_count": 9,
     "metadata": {},
     "output_type": "execute_result"
    }
   ],
   "source": [
    "carni.isnull().sum()\n",
    "carni.shape"
   ]
  },
  {
   "cell_type": "code",
   "execution_count": 10,
   "id": "55633de2",
   "metadata": {},
   "outputs": [],
   "source": [
    "# carni.drop(['island'],axis=1)"
   ]
  },
  {
   "cell_type": "code",
   "execution_count": 11,
   "id": "140173ac",
   "metadata": {},
   "outputs": [],
   "source": [
    "# carni.drop(['orderPrey','speciesPrey','scientificNamePrey','genusPrey','familyPrey'],axis=1)"
   ]
  },
  {
   "cell_type": "code",
   "execution_count": 12,
   "id": "545130f4",
   "metadata": {},
   "outputs": [],
   "source": [
    "carni.drop(['percentageError','sampleSizeKillsPreyItems','startDayOfYear','endDayOfYear','minimumElevationInMeters',\n",
    "            'maximumElevationInMeters','geographicRegion','stateProvince','county','municipality',\n",
    "            'verbatimLocality','protectedAreaHigher','protectedAreaLower','islandGroup','island','studyAreaSize','orderPrey','familyPrey','genusPrey','speciesPrey','scientificNamePrey'],axis=1,inplace=True)"
   ]
  },
  {
   "cell_type": "code",
   "execution_count": 13,
   "id": "50f7bf2f",
   "metadata": {},
   "outputs": [],
   "source": [
    "# carni.isnull().sum()"
   ]
  },
  {
   "cell_type": "code",
   "execution_count": 14,
   "id": "16925e0d",
   "metadata": {},
   "outputs": [],
   "source": [
    "# carni.info()"
   ]
  },
  {
   "cell_type": "code",
   "execution_count": 18,
   "id": "36ce4a08",
   "metadata": {},
   "outputs": [
    {
     "data": {
      "text/plain": [
       "0        Both\n",
       "1        Both\n",
       "2        Both\n",
       "3        Both\n",
       "4        Both\n",
       "         ... \n",
       "29116    Both\n",
       "29117    Both\n",
       "29118    Both\n",
       "29119    Both\n",
       "29120    Both\n",
       "Name: sexCarni, Length: 29121, dtype: object"
      ]
     },
     "execution_count": 18,
     "metadata": {},
     "output_type": "execute_result"
    }
   ],
   "source": [
    "carni['sexCarni'].astype(str)"
   ]
  },
  {
   "cell_type": "code",
   "execution_count": 16,
   "id": "6b42d367",
   "metadata": {},
   "outputs": [
    {
     "data": {
      "text/plain": [
       "0        Mammal\n",
       "1        Mammal\n",
       "2        Mammal\n",
       "3        Mammal\n",
       "4        Mammal\n",
       "          ...  \n",
       "29116    Mammal\n",
       "29117     Plant\n",
       "29118      Bird\n",
       "29119    Mammal\n",
       "29120    Mammal\n",
       "Name: foodType, Length: 29121, dtype: object"
      ]
     },
     "execution_count": 16,
     "metadata": {},
     "output_type": "execute_result"
    }
   ],
   "source": [
    "carni['foodType'].astype(str)"
   ]
  },
  {
   "cell_type": "code",
   "execution_count": 17,
   "id": "929ce6f5",
   "metadata": {},
   "outputs": [
    {
     "name": "stdout",
     "output_type": "stream",
     "text": [
      "<class 'pandas.core.frame.DataFrame'>\n",
      "RangeIndex: 29121 entries, 0 to 29120\n",
      "Data columns (total 32 columns):\n",
      " #   Column                       Non-Null Count  Dtype  \n",
      "---  ------                       --------------  -----  \n",
      " 0   recordID                     29121 non-null  int64  \n",
      " 1   orderCarni                   29121 non-null  object \n",
      " 2   familyCarni                  29121 non-null  object \n",
      " 3   scientificNameCarni          29121 non-null  object \n",
      " 4   commonNameCarni              29121 non-null  object \n",
      " 5   sexCarni                     29121 non-null  object \n",
      " 6   lifeStageCarni               29121 non-null  object \n",
      " 7   foodType                     29119 non-null  object \n",
      " 8   commonNamePrey               28698 non-null  object \n",
      " 9   domesticOrAgricultural       28883 non-null  float64\n",
      " 10  taxonRankPrey                29121 non-null  object \n",
      " 11  percentage                   29121 non-null  float64\n",
      " 12  dataBasisFromSource          28771 non-null  object \n",
      " 13  sampleSizeScatStomachTissue  26311 non-null  float64\n",
      " 14  startYear                    27787 non-null  float64\n",
      " 15  endYear                      27787 non-null  float64\n",
      " 16  startMonth                   19580 non-null  object \n",
      " 17  endMonth                     19593 non-null  object \n",
      " 18  fixedBetweenMonths           19400 non-null  object \n",
      " 19  season                       26897 non-null  object \n",
      " 20  country                      28814 non-null  object \n",
      " 21  decimalLatitude              28899 non-null  float64\n",
      " 22  decimalLongitude             28607 non-null  float64\n",
      " 23  georeferenceSources          28964 non-null  object \n",
      " 24  samplingProtocol             29121 non-null  object \n",
      " 25  methodQuantification         29121 non-null  object \n",
      " 26  sourceAuthor                 29121 non-null  object \n",
      " 27  sourceYear                   29121 non-null  int64  \n",
      " 28  sourceTitle                  29121 non-null  object \n",
      " 29  sourceJournal                29121 non-null  object \n",
      " 30  sourcePrimaryReference       29121 non-null  object \n",
      " 31  sourceCollectionReference    29121 non-null  object \n",
      "dtypes: float64(7), int64(2), object(23)\n",
      "memory usage: 7.1+ MB\n"
     ]
    }
   ],
   "source": [
    "carni.info()\n"
   ]
  },
  {
   "cell_type": "code",
   "execution_count": 21,
   "id": "100c4f0a",
   "metadata": {},
   "outputs": [
    {
     "data": {
      "text/plain": [
       "<AxesSubplot: xlabel='sexCarni', ylabel='count'>"
      ]
     },
     "execution_count": 21,
     "metadata": {},
     "output_type": "execute_result"
    },
    {
     "data": {
      "image/png": "[encoded data removed]",
      "text/plain": [
       "<Figure size 640x480 with 1 Axes>"
      ]
     },
     "metadata": {},
     "output_type": "display_data"
    }
   ],
   "source": [
    "sns.countplot(x=carni.sexCarni)"
   ]
  },
  {
   "cell_type": "code",
   "execution_count": 26,
   "id": "99fc1e37",
   "metadata": {},
   "outputs": [
    {
     "data": {
      "text/plain": [
       "(array([ 0,  1,  2,  3,  4,  5,  6,  7,  8,  9, 10, 11, 12, 13, 14]),\n",
       " [Text(0, 0, 'Mammal'),\n",
       "  Text(1, 0, 'Bird'),\n",
       "  Text(2, 0, 'Invertebrate'),\n",
       "  Text(3, 0, 'Plant'),\n",
       "  Text(4, 0, 'Reptile'),\n",
       "  Text(5, 0, 'Fish'),\n",
       "  Text(6, 0, 'Amphibian'),\n",
       "  Text(7, 0, 'Other'),\n",
       "  Text(8, 0, 'Herpetofauna'),\n",
       "  Text(9, 0, 'Anthropogenic'),\n",
       "  Text(10, 0, 'Vertebrate'),\n",
       "  Text(11, 0, 'Reptile/Fish'),\n",
       "  Text(12, 0, 'Animal'),\n",
       "  Text(13, 0, 'Egg'),\n",
       "  Text(14, 0, 'Fungi')])"
      ]
     },
     "execution_count": 26,
     "metadata": {},
     "output_type": "execute_result"
    },
    {
     "data": {
      "image/png": "[encoded data removed]",
      "text/plain": [
       "<Figure size 1000x1000 with 1 Axes>"
      ]
     },
     "metadata": {},
     "output_type": "display_data"
    }
   ],
   "source": [
    "plt.figure(figsize=[10,10])\n",
    "sns.countplot(x=carni.foodType)\n",
    "plt.xticks(rotation=45)"
   ]
  },
  {
   "cell_type": "code",
   "execution_count": 28,
   "id": "b1e95ada",
   "metadata": {},
   "outputs": [
    {
     "data": {
      "text/plain": [
       "<AxesSubplot: xlabel='orderCarni', ylabel='count'>"
      ]
     },
     "execution_count": 28,
     "metadata": {},
     "output_type": "execute_result"
    },
    {
     "data": {
      "image/png": "[encoded data removed]",
      "text/plain": [
       "<Figure size 640x480 with 1 Axes>"
      ]
     },
     "metadata": {},
     "output_type": "display_data"
    }
   ],
   "source": [
    "sns.countplot(x=carni.orderCarni)"
   ]
  },
  {
   "cell_type": "code",
   "execution_count": null,
   "id": "7dbd59c3",
   "metadata": {},
   "outputs": [],
   "source": []
  }
 ],
 "metadata": {
  "kernelspec": {
   "display_name": "Python 3 (ipykernel)",
   "language": "python",
   "name": "python3"
  },
  "language_info": {
   "codemirror_mode": {
    "name": "ipython",
    "version": 3
   },
   "file_extension": ".py",
   "mimetype": "text/x-python",
   "name": "python",
   "nbconvert_exporter": "python",
   "pygments_lexer": "ipython3",
   "version": "3.11.0"
  }
 },
 "nbformat": 4,
 "nbformat_minor": 5
}
